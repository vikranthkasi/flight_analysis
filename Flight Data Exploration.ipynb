{
 "cells": [
  {
   "cell_type": "code",
   "execution_count": 2,
   "metadata": {},
   "outputs": [],
   "source": [
    "import os\n",
    "from pathlib import Path\n",
    "import pandas as pd\n",
    "import numpy as np"
   ]
  },
  {
   "cell_type": "code",
   "execution_count": 3,
   "metadata": {},
   "outputs": [],
   "source": [
    "data_folder = Path('archive')\n",
    "data_folder_raw = Path('archive/raw_data')"
   ]
  },
  {
   "cell_type": "code",
   "execution_count": 4,
   "metadata": {},
   "outputs": [],
   "source": [
    "file_list =[]\n",
    "for r,d,f in os.walk('archive'):\n",
    "    file_list.append(f)"
   ]
  },
  {
   "cell_type": "code",
   "execution_count": 5,
   "metadata": {},
   "outputs": [],
   "source": [
    "file_list_data = file_list[0]\n",
    "file_list_raw = file_list[1]"
   ]
  },
  {
   "cell_type": "code",
   "execution_count": 6,
   "metadata": {},
   "outputs": [
    {
     "data": {
      "text/html": [
       "<div>\n",
       "<style scoped>\n",
       "    .dataframe tbody tr th:only-of-type {\n",
       "        vertical-align: middle;\n",
       "    }\n",
       "\n",
       "    .dataframe tbody tr th {\n",
       "        vertical-align: top;\n",
       "    }\n",
       "\n",
       "    .dataframe thead th {\n",
       "        text-align: right;\n",
       "    }\n",
       "</style>\n",
       "<table border=\"1\" class=\"dataframe\">\n",
       "  <thead>\n",
       "    <tr style=\"text-align: right;\">\n",
       "      <th></th>\n",
       "      <th>MONTH</th>\n",
       "      <th>DAY_OF_WEEK</th>\n",
       "      <th>DEP_DEL15</th>\n",
       "      <th>DISTANCE_GROUP</th>\n",
       "      <th>DEP_BLOCK</th>\n",
       "      <th>SEGMENT_NUMBER</th>\n",
       "      <th>CONCURRENT_FLIGHTS</th>\n",
       "      <th>NUMBER_OF_SEATS</th>\n",
       "      <th>CARRIER_NAME</th>\n",
       "      <th>AIRPORT_FLIGHTS_MONTH</th>\n",
       "      <th>...</th>\n",
       "      <th>PLANE_AGE</th>\n",
       "      <th>DEPARTING_AIRPORT</th>\n",
       "      <th>LATITUDE</th>\n",
       "      <th>LONGITUDE</th>\n",
       "      <th>PREVIOUS_AIRPORT</th>\n",
       "      <th>PRCP</th>\n",
       "      <th>SNOW</th>\n",
       "      <th>SNWD</th>\n",
       "      <th>TMAX</th>\n",
       "      <th>AWND</th>\n",
       "    </tr>\n",
       "  </thead>\n",
       "  <tbody>\n",
       "    <tr>\n",
       "      <th>0</th>\n",
       "      <td>1</td>\n",
       "      <td>1</td>\n",
       "      <td>0</td>\n",
       "      <td>1</td>\n",
       "      <td>MORNING</td>\n",
       "      <td>1</td>\n",
       "      <td>49</td>\n",
       "      <td>66</td>\n",
       "      <td>Mesa Airlines Inc.</td>\n",
       "      <td>5021</td>\n",
       "      <td>...</td>\n",
       "      <td>17</td>\n",
       "      <td>Raleigh-Durham International</td>\n",
       "      <td>35.875</td>\n",
       "      <td>-78.782</td>\n",
       "      <td>NONE</td>\n",
       "      <td>0.46</td>\n",
       "      <td>0.0</td>\n",
       "      <td>0.0</td>\n",
       "      <td>67.0</td>\n",
       "      <td>5.37</td>\n",
       "    </tr>\n",
       "    <tr>\n",
       "      <th>1</th>\n",
       "      <td>1</td>\n",
       "      <td>1</td>\n",
       "      <td>0</td>\n",
       "      <td>3</td>\n",
       "      <td>EARLY_MORNING</td>\n",
       "      <td>1</td>\n",
       "      <td>8</td>\n",
       "      <td>128</td>\n",
       "      <td>American Airlines Inc.</td>\n",
       "      <td>5021</td>\n",
       "      <td>...</td>\n",
       "      <td>19</td>\n",
       "      <td>Raleigh-Durham International</td>\n",
       "      <td>35.875</td>\n",
       "      <td>-78.782</td>\n",
       "      <td>NONE</td>\n",
       "      <td>0.46</td>\n",
       "      <td>0.0</td>\n",
       "      <td>0.0</td>\n",
       "      <td>67.0</td>\n",
       "      <td>5.37</td>\n",
       "    </tr>\n",
       "    <tr>\n",
       "      <th>2</th>\n",
       "      <td>1</td>\n",
       "      <td>1</td>\n",
       "      <td>0</td>\n",
       "      <td>2</td>\n",
       "      <td>MORNING</td>\n",
       "      <td>1</td>\n",
       "      <td>49</td>\n",
       "      <td>99</td>\n",
       "      <td>American Airlines Inc.</td>\n",
       "      <td>5021</td>\n",
       "      <td>...</td>\n",
       "      <td>11</td>\n",
       "      <td>Raleigh-Durham International</td>\n",
       "      <td>35.875</td>\n",
       "      <td>-78.782</td>\n",
       "      <td>NONE</td>\n",
       "      <td>0.46</td>\n",
       "      <td>0.0</td>\n",
       "      <td>0.0</td>\n",
       "      <td>67.0</td>\n",
       "      <td>5.37</td>\n",
       "    </tr>\n",
       "    <tr>\n",
       "      <th>3</th>\n",
       "      <td>1</td>\n",
       "      <td>1</td>\n",
       "      <td>0</td>\n",
       "      <td>1</td>\n",
       "      <td>EARLY_MORNING</td>\n",
       "      <td>1</td>\n",
       "      <td>8</td>\n",
       "      <td>99</td>\n",
       "      <td>American Airlines Inc.</td>\n",
       "      <td>5021</td>\n",
       "      <td>...</td>\n",
       "      <td>11</td>\n",
       "      <td>Raleigh-Durham International</td>\n",
       "      <td>35.875</td>\n",
       "      <td>-78.782</td>\n",
       "      <td>NONE</td>\n",
       "      <td>0.46</td>\n",
       "      <td>0.0</td>\n",
       "      <td>0.0</td>\n",
       "      <td>67.0</td>\n",
       "      <td>5.37</td>\n",
       "    </tr>\n",
       "    <tr>\n",
       "      <th>4</th>\n",
       "      <td>1</td>\n",
       "      <td>1</td>\n",
       "      <td>0</td>\n",
       "      <td>3</td>\n",
       "      <td>MORNING</td>\n",
       "      <td>1</td>\n",
       "      <td>49</td>\n",
       "      <td>143</td>\n",
       "      <td>Southwest Airlines Co.</td>\n",
       "      <td>5021</td>\n",
       "      <td>...</td>\n",
       "      <td>8</td>\n",
       "      <td>Raleigh-Durham International</td>\n",
       "      <td>35.875</td>\n",
       "      <td>-78.782</td>\n",
       "      <td>NONE</td>\n",
       "      <td>0.46</td>\n",
       "      <td>0.0</td>\n",
       "      <td>0.0</td>\n",
       "      <td>67.0</td>\n",
       "      <td>5.37</td>\n",
       "    </tr>\n",
       "  </tbody>\n",
       "</table>\n",
       "<p>5 rows × 26 columns</p>\n",
       "</div>"
      ],
      "text/plain": [
       "   MONTH  DAY_OF_WEEK  DEP_DEL15  DISTANCE_GROUP      DEP_BLOCK  \\\n",
       "0      1            1          0               1        MORNING   \n",
       "1      1            1          0               3  EARLY_MORNING   \n",
       "2      1            1          0               2        MORNING   \n",
       "3      1            1          0               1  EARLY_MORNING   \n",
       "4      1            1          0               3        MORNING   \n",
       "\n",
       "   SEGMENT_NUMBER  CONCURRENT_FLIGHTS  NUMBER_OF_SEATS  \\\n",
       "0               1                  49               66   \n",
       "1               1                   8              128   \n",
       "2               1                  49               99   \n",
       "3               1                   8               99   \n",
       "4               1                  49              143   \n",
       "\n",
       "             CARRIER_NAME  AIRPORT_FLIGHTS_MONTH  ...  PLANE_AGE  \\\n",
       "0      Mesa Airlines Inc.                   5021  ...         17   \n",
       "1  American Airlines Inc.                   5021  ...         19   \n",
       "2  American Airlines Inc.                   5021  ...         11   \n",
       "3  American Airlines Inc.                   5021  ...         11   \n",
       "4  Southwest Airlines Co.                   5021  ...          8   \n",
       "\n",
       "              DEPARTING_AIRPORT  LATITUDE  LONGITUDE  PREVIOUS_AIRPORT  PRCP  \\\n",
       "0  Raleigh-Durham International    35.875    -78.782              NONE  0.46   \n",
       "1  Raleigh-Durham International    35.875    -78.782              NONE  0.46   \n",
       "2  Raleigh-Durham International    35.875    -78.782              NONE  0.46   \n",
       "3  Raleigh-Durham International    35.875    -78.782              NONE  0.46   \n",
       "4  Raleigh-Durham International    35.875    -78.782              NONE  0.46   \n",
       "\n",
       "   SNOW SNWD  TMAX  AWND  \n",
       "0   0.0  0.0  67.0  5.37  \n",
       "1   0.0  0.0  67.0  5.37  \n",
       "2   0.0  0.0  67.0  5.37  \n",
       "3   0.0  0.0  67.0  5.37  \n",
       "4   0.0  0.0  67.0  5.37  \n",
       "\n",
       "[5 rows x 26 columns]"
      ]
     },
     "execution_count": 6,
     "metadata": {},
     "output_type": "execute_result"
    }
   ],
   "source": [
    "file_list_data = file_list_data[1:]\n",
    "new_data_small = pd.read_csv(data_folder/file_list_data[0])\n",
    "new_data_small.head()"
   ]
  },
  {
   "cell_type": "markdown",
   "metadata": {},
   "source": [
    "MONTH:\t\t\t\tMonth\n",
    "\n",
    "DAY_OF_WEEK:\t\t\tDay of Week\n",
    "\n",
    "DEP_DEL15: \t\t\tTARGET Binary of a departure delay over 15 minutes (1 is yes)\n",
    "\n",
    "DISTANCE_GROUP:\t\t\tDistance group to be flown by departing aircraft\n",
    "\n",
    "DEP_BLOCK:\t\t\tDeparture block\n",
    "\n",
    "SEGMENT_NUMBER:\t\t\tThe segment that this tail number is on for the day\n",
    "\n",
    "CONCURRENT_FLIGHTS:\t\tConcurrent flights leaving from the airport in the same departure block\n",
    "\n",
    "NUMBER_OF_SEATS:\t\tNumber of seats on the aircraft\n",
    "\n",
    "CARRIER_NAME:\t\t\tCarrier\n",
    "\n",
    "AIRPORT_FLIGHTS_MONTH:\t\tAvg Airport Flights per Month\n",
    "\n",
    "AIRLINE_FLIGHTS_MONTH:\t\tAvg Airline Flights per Month\n",
    "\n",
    "AIRLINE_AIRPORT_FLIGHTS_MONTH:\tAvg Flights per month for Airline AND Airport\n",
    "\n",
    "AVG_MONTHLY_PASS_AIRPORT:\tAvg Passengers for the departing airport for the month\n",
    "\n",
    "AVG_MONTHLY_PASS_AIRLINE:\tAvg Passengers for airline for month\n",
    "\n",
    "FLT_ATTENDANTS_PER_PASS:\tFlight attendants per passenger for airline\n",
    "\n",
    "GROUND_SERV_PER_PASS:\t\tGround service employees (service desk) per passenger for airline\n",
    "\n",
    "PLANE_AGE:\t\t\tAge of departing aircraft\n",
    "\n",
    "DEPARTING_AIRPORT:\t\tDeparting Airport\n",
    "\n",
    "LATITUDE:\t\t\tLatitude of departing airport\n",
    "\n",
    "LONGITUDE:\t\t\tLongitude of departing airport\n",
    "\n",
    "PREVIOUS_AIRPORT:\t\tPrevious airport that aircraft departed from\n",
    "\n",
    "PRCP:\t\t\t\tInches of precipitation for day\n",
    "\n",
    "SNOW:\t\t\t\tInches of snowfall for day\n",
    "\n",
    "SNWD:\t\t\t\tInches of snow on ground for day\n",
    "\n",
    "TMAX:\t\t\t\tMax temperature for day\n",
    "\n",
    "AWND:\t\t\t\tMax wind speed for day"
   ]
  },
  {
   "cell_type": "code",
   "execution_count": 7,
   "metadata": {},
   "outputs": [
    {
     "data": {
      "text/plain": [
       "array([0, 1])"
      ]
     },
     "execution_count": 7,
     "metadata": {},
     "output_type": "execute_result"
    }
   ],
   "source": [
    "new_data_small['DEP_DEL15'].unique()"
   ]
  },
  {
   "cell_type": "code",
   "execution_count": 8,
   "metadata": {},
   "outputs": [
    {
     "data": {
      "text/plain": [
       "DEP_DEL15                        1.000000\n",
       "PRCP                             0.072290\n",
       "SEGMENT_NUMBER                   0.067253\n",
       "DAY_OF_WEEK                      0.055698\n",
       "AWND                             0.051857\n",
       "SNOW                             0.036568\n",
       "AVG_MONTHLY_PASS_AIRLINE         0.032262\n",
       "AIRLINE_FLIGHTS_MONTH            0.026386\n",
       "AIRPORT_FLIGHTS_MONTH            0.022902\n",
       "AVG_MONTHLY_PASS_AIRPORT         0.022860\n",
       "CONCURRENT_FLIGHTS               0.016459\n",
       "DISTANCE_GROUP                   0.014529\n",
       "NUMBER_OF_SEATS                  0.013683\n",
       "GROUND_SERV_PER_PASS             0.012946\n",
       "SNWD                             0.012223\n",
       "FLT_ATTENDANTS_PER_PASS          0.010750\n",
       "AIRLINE_AIRPORT_FLIGHTS_MONTH    0.009105\n",
       "LATITUDE                         0.009070\n",
       "LONGITUDE                        0.008448\n",
       "PLANE_AGE                        0.003554\n",
       "TMAX                             0.002281\n",
       "MONTH                                 NaN\n",
       "Name: DEP_DEL15, dtype: float64"
      ]
     },
     "execution_count": 8,
     "metadata": {},
     "output_type": "execute_result"
    }
   ],
   "source": [
    "crr_df = new_data_small.corr()['DEP_DEL15']\n",
    "crr_df = crr_df.abs()\n",
    "crr_df.sort_values(ascending=False)"
   ]
  },
  {
   "cell_type": "code",
   "execution_count": 9,
   "metadata": {},
   "outputs": [
    {
     "data": {
      "text/plain": [
       "17"
      ]
     },
     "execution_count": 9,
     "metadata": {},
     "output_type": "execute_result"
    }
   ],
   "source": [
    "len(new_data_small['AIRLINE_FLIGHTS_MONTH'].unique())"
   ]
  },
  {
   "cell_type": "code",
   "execution_count": 10,
   "metadata": {},
   "outputs": [
    {
     "data": {
      "text/plain": [
       "array([ 1,  2,  3,  4,  5,  6,  7,  8,  9, 10, 11, 12, 13, 14])"
      ]
     },
     "execution_count": 10,
     "metadata": {},
     "output_type": "execute_result"
    }
   ],
   "source": [
    "new_data_small['SEGMENT_NUMBER'].unique()"
   ]
  },
  {
   "cell_type": "code",
   "execution_count": 11,
   "metadata": {},
   "outputs": [],
   "source": [
    "from matplotlib import pyplot as plt"
   ]
  },
  {
   "cell_type": "code",
   "execution_count": 12,
   "metadata": {},
   "outputs": [
    {
     "data": {
      "text/plain": [
       "(array([28373., 28601., 71397., 42374.,     0.,     0., 45371.,     0.,\n",
       "            0.,     0., 45296., 71074., 69537.,     0.,     0.,     0.,\n",
       "        96914.]),\n",
       " array([  7018.        ,  12949.23529412,  18880.47058824,  24811.70588235,\n",
       "         30742.94117647,  36674.17647059,  42605.41176471,  48536.64705882,\n",
       "         54467.88235294,  60399.11764706,  66330.35294118,  72261.58823529,\n",
       "         78192.82352941,  84124.05882353,  90055.29411765,  95986.52941176,\n",
       "        101917.76470588, 107849.        ]),\n",
       " <BarContainer object of 17 artists>)"
      ]
     },
     "execution_count": 12,
     "metadata": {},
     "output_type": "execute_result"
    },
    {
     "data": {
      "image/png": "[encoded data removed]",
      "text/plain": [
       "<Figure size 432x288 with 1 Axes>"
      ]
     },
     "metadata": {
      "needs_background": "light"
     },
     "output_type": "display_data"
    }
   ],
   "source": [
    "plt.hist(new_data_small['AIRLINE_FLIGHTS_MONTH'],bins=17)"
   ]
  },
  {
   "cell_type": "markdown",
   "metadata": {},
   "source": [
    "EDA\n",
    "\n",
    "1.looking at each column and seeing if there are any missing values in any of these columns\n",
    "\n",
    "2.identify categorical data\n",
    "\n",
    "3.one hot encoding for categorical data"
   ]
  },
  {
   "cell_type": "code",
   "execution_count": 13,
   "metadata": {},
   "outputs": [
    {
     "data": {
      "text/plain": [
       "MONTH                            0\n",
       "DAY_OF_WEEK                      0\n",
       "DEP_DEL15                        0\n",
       "DISTANCE_GROUP                   0\n",
       "DEP_BLOCK                        0\n",
       "SEGMENT_NUMBER                   0\n",
       "CONCURRENT_FLIGHTS               0\n",
       "NUMBER_OF_SEATS                  0\n",
       "CARRIER_NAME                     0\n",
       "AIRPORT_FLIGHTS_MONTH            0\n",
       "AIRLINE_FLIGHTS_MONTH            0\n",
       "AIRLINE_AIRPORT_FLIGHTS_MONTH    0\n",
       "AVG_MONTHLY_PASS_AIRPORT         0\n",
       "AVG_MONTHLY_PASS_AIRLINE         0\n",
       "FLT_ATTENDANTS_PER_PASS          0\n",
       "GROUND_SERV_PER_PASS             0\n",
       "PLANE_AGE                        0\n",
       "DEPARTING_AIRPORT                0\n",
       "LATITUDE                         0\n",
       "LONGITUDE                        0\n",
       "PREVIOUS_AIRPORT                 0\n",
       "PRCP                             0\n",
       "SNOW                             0\n",
       "SNWD                             0\n",
       "TMAX                             0\n",
       "AWND                             0\n",
       "dtype: int64"
      ]
     },
     "execution_count": 13,
     "metadata": {},
     "output_type": "execute_result"
    }
   ],
   "source": [
    "new_data_small.isnull().sum()"
   ]
  },
  {
   "cell_type": "markdown",
   "metadata": {},
   "source": [
    "Categorical Columns\n",
    "\n",
    "Month\n",
    "\n",
    "Day of week\n",
    "\n",
    "Distance Group\n",
    "\n",
    "Dep Block\n",
    "\n",
    "Segment Number\n",
    "\n",
    "Carrier Name\n",
    "\n",
    "Departing Airport\n",
    "\n",
    "Previous Airport"
   ]
  },
  {
   "cell_type": "code",
   "execution_count": 14,
   "metadata": {},
   "outputs": [],
   "source": [
    "#one hot encoding for categorical columns using dummies\n",
    "categorical_columns = ['MONTH','DAY_OF_WEEK','DISTANCE_GROUP','DEP_BLOCK','SEGMENT_NUMBER','CARRIER_NAME',\n",
    "                       'DEPARTING_AIRPORT'\n",
    "                      ,'PREVIOUS_AIRPORT']"
   ]
  },
  {
   "cell_type": "code",
   "execution_count": 15,
   "metadata": {},
   "outputs": [],
   "source": [
    "dummy = pd.get_dummies(new_data_small[categorical_columns])"
   ]
  },
  {
   "cell_type": "code",
   "execution_count": 18,
   "metadata": {},
   "outputs": [],
   "source": [
    "data_numerical = new_data_small.drop(columns=categorical_columns)"
   ]
  },
  {
   "cell_type": "code",
   "execution_count": 23,
   "metadata": {},
   "outputs": [],
   "source": [
    "concat_data = pd.concat([data_numerical,dummy],axis=1)"
   ]
  },
  {
   "cell_type": "code",
   "execution_count": 20,
   "metadata": {},
   "outputs": [
    {
     "data": {
      "text/plain": [
       "Index(['DEP_DEL15', 'CONCURRENT_FLIGHTS', 'NUMBER_OF_SEATS',\n",
       "       'AIRPORT_FLIGHTS_MONTH', 'AIRLINE_FLIGHTS_MONTH',\n",
       "       'AIRLINE_AIRPORT_FLIGHTS_MONTH', 'AVG_MONTHLY_PASS_AIRPORT',\n",
       "       'AVG_MONTHLY_PASS_AIRLINE', 'FLT_ATTENDANTS_PER_PASS',\n",
       "       'GROUND_SERV_PER_PASS', 'PLANE_AGE', 'LATITUDE', 'LONGITUDE', 'PRCP',\n",
       "       'SNOW', 'SNWD', 'TMAX', 'AWND'],\n",
       "      dtype='object')"
      ]
     },
     "execution_count": 20,
     "metadata": {},
     "output_type": "execute_result"
    }
   ],
   "source": [
    "data_numerical.columns"
   ]
  },
  {
   "cell_type": "markdown",
   "metadata": {},
   "source": [
    "finding importance of the features in the dataset"
   ]
  },
  {
   "cell_type": "code",
   "execution_count": 26,
   "metadata": {},
   "outputs": [],
   "source": [
    "from sklearn.preprocessing import StandardScaler\n",
    "from sklearn.model_selection import train_test_split\n",
    "\n",
    "X = concat_data.drop('DEP_DEL15', axis=1)\n",
    "y = concat_data['DEP_DEL15']\n",
    "X_train, X_test, y_train, y_test = train_test_split(X, y, test_size=0.25, random_state=42)\n",
    "\n",
    "ss = StandardScaler()\n",
    "X_train_scaled = ss.fit_transform(X_train)\n",
    "X_test_scaled = ss.transform(X_test)"
   ]
  },
  {
   "cell_type": "code",
   "execution_count": 30,
   "metadata": {},
   "outputs": [],
   "source": [
    "from sklearn.linear_model import LogisticRegression\n",
    "\n",
    "model = LogisticRegression()\n",
    "model.fit(X_train_scaled, y_train)\n",
    "importances = pd.DataFrame(data={\n",
    "    'Attribute': X_train.columns,\n",
    "    'Importance': model.coef_[0]\n",
    "})\n",
    "importances = importances.sort_values(by='Importance', ascending=False)"
   ]
  },
  {
   "cell_type": "code",
   "execution_count": 38,
   "metadata": {},
   "outputs": [
    {
     "data": {
      "text/html": [
       "<div>\n",
       "<style scoped>\n",
       "    .dataframe tbody tr th:only-of-type {\n",
       "        vertical-align: middle;\n",
       "    }\n",
       "\n",
       "    .dataframe tbody tr th {\n",
       "        vertical-align: top;\n",
       "    }\n",
       "\n",
       "    .dataframe thead th {\n",
       "        text-align: right;\n",
       "    }\n",
       "</style>\n",
       "<table border=\"1\" class=\"dataframe\">\n",
       "  <thead>\n",
       "    <tr style=\"text-align: right;\">\n",
       "      <th></th>\n",
       "      <th>Attribute</th>\n",
       "      <th>Importance</th>\n",
       "    </tr>\n",
       "  </thead>\n",
       "  <tbody>\n",
       "    <tr>\n",
       "      <th>12</th>\n",
       "      <td>PRCP</td>\n",
       "      <td>0.164585</td>\n",
       "    </tr>\n",
       "    <tr>\n",
       "      <th>23</th>\n",
       "      <td>DEP_BLOCK_EVENING</td>\n",
       "      <td>0.160013</td>\n",
       "    </tr>\n",
       "    <tr>\n",
       "      <th>18</th>\n",
       "      <td>DAY_OF_WEEK</td>\n",
       "      <td>0.137373</td>\n",
       "    </tr>\n",
       "    <tr>\n",
       "      <th>32</th>\n",
       "      <td>CARRIER_NAME_Comair Inc.</td>\n",
       "      <td>0.114113</td>\n",
       "    </tr>\n",
       "    <tr>\n",
       "      <th>16</th>\n",
       "      <td>AWND</td>\n",
       "      <td>0.109863</td>\n",
       "    </tr>\n",
       "    <tr>\n",
       "      <th>9</th>\n",
       "      <td>PLANE_AGE</td>\n",
       "      <td>0.101170</td>\n",
       "    </tr>\n",
       "    <tr>\n",
       "      <th>21</th>\n",
       "      <td>DEP_BLOCK_AFTERNOON</td>\n",
       "      <td>0.095479</td>\n",
       "    </tr>\n",
       "    <tr>\n",
       "      <th>14</th>\n",
       "      <td>SNWD</td>\n",
       "      <td>0.079676</td>\n",
       "    </tr>\n",
       "    <tr>\n",
       "      <th>19</th>\n",
       "      <td>DISTANCE_GROUP</td>\n",
       "      <td>0.071530</td>\n",
       "    </tr>\n",
       "    <tr>\n",
       "      <th>56</th>\n",
       "      <td>DEPARTING_AIRPORT_Dallas Fort Worth Regional</td>\n",
       "      <td>0.071283</td>\n",
       "    </tr>\n",
       "    <tr>\n",
       "      <th>13</th>\n",
       "      <td>SNOW</td>\n",
       "      <td>0.066280</td>\n",
       "    </tr>\n",
       "    <tr>\n",
       "      <th>92</th>\n",
       "      <td>DEPARTING_AIRPORT_Newark Liberty International</td>\n",
       "      <td>0.061726</td>\n",
       "    </tr>\n",
       "    <tr>\n",
       "      <th>116</th>\n",
       "      <td>DEPARTING_AIRPORT_San Francisco International</td>\n",
       "      <td>0.061531</td>\n",
       "    </tr>\n",
       "    <tr>\n",
       "      <th>345</th>\n",
       "      <td>PREVIOUS_AIRPORT_Newark Liberty International</td>\n",
       "      <td>0.053687</td>\n",
       "    </tr>\n",
       "    <tr>\n",
       "      <th>40</th>\n",
       "      <td>CARRIER_NAME_SkyWest Airlines Inc.</td>\n",
       "      <td>0.053294</td>\n",
       "    </tr>\n",
       "  </tbody>\n",
       "</table>\n",
       "</div>"
      ],
      "text/plain": [
       "                                          Attribute  Importance\n",
       "12                                             PRCP    0.164585\n",
       "23                                DEP_BLOCK_EVENING    0.160013\n",
       "18                                      DAY_OF_WEEK    0.137373\n",
       "32                         CARRIER_NAME_Comair Inc.    0.114113\n",
       "16                                             AWND    0.109863\n",
       "9                                         PLANE_AGE    0.101170\n",
       "21                              DEP_BLOCK_AFTERNOON    0.095479\n",
       "14                                             SNWD    0.079676\n",
       "19                                   DISTANCE_GROUP    0.071530\n",
       "56     DEPARTING_AIRPORT_Dallas Fort Worth Regional    0.071283\n",
       "13                                             SNOW    0.066280\n",
       "92   DEPARTING_AIRPORT_Newark Liberty International    0.061726\n",
       "116   DEPARTING_AIRPORT_San Francisco International    0.061531\n",
       "345   PREVIOUS_AIRPORT_Newark Liberty International    0.053687\n",
       "40               CARRIER_NAME_SkyWest Airlines Inc.    0.053294"
      ]
     },
     "execution_count": 38,
     "metadata": {},
     "output_type": "execute_result"
    }
   ],
   "source": [
    "importances.head(15)"
   ]
  },
  {
   "cell_type": "code",
   "execution_count": 40,
   "metadata": {},
   "outputs": [
    {
     "name": "stderr",
     "output_type": "stream",
     "text": [
      "/Library/Frameworks/Python.framework/Versions/3.8/lib/python3.8/site-packages/sklearn/base.py:438: UserWarning: X has feature names, but LogisticRegression was fitted without feature names\n",
      "  warnings.warn(\n"
     ]
    },
    {
     "data": {
      "text/plain": [
       "0.812498496813244"
      ]
     },
     "execution_count": 40,
     "metadata": {},
     "output_type": "execute_result"
    }
   ],
   "source": [
    "y_pred = model.predict(X_test_scaled)\n",
    "model.score(X_test,y_test)"
   ]
  },
  {
   "cell_type": "code",
   "execution_count": 52,
   "metadata": {},
   "outputs": [],
   "source": [
    "reduced_features = list(importances[importances['Importance']>0]['Attribute'])\n",
    "reduced_data = concat_data[reduced_features]"
   ]
  },
  {
   "cell_type": "code",
   "execution_count": 55,
   "metadata": {},
   "outputs": [],
   "source": [
    "from sklearn.preprocessing import StandardScaler\n",
    "from sklearn.model_selection import train_test_split\n",
    "\n",
    "X = reduced_data\n",
    "y = concat_data['DEP_DEL15']\n",
    "X_train, X_test, y_train, y_test = train_test_split(X, y, test_size=0.25, random_state=42)\n",
    "\n",
    "ss = StandardScaler()\n",
    "X_train_scaled = ss.fit_transform(X_train)\n",
    "X_test_scaled = ss.transform(X_test)"
   ]
  },
  {
   "cell_type": "code",
   "execution_count": 57,
   "metadata": {},
   "outputs": [
    {
     "name": "stderr",
     "output_type": "stream",
     "text": [
      "/Library/Frameworks/Python.framework/Versions/3.8/lib/python3.8/site-packages/sklearn/base.py:438: UserWarning: X has feature names, but LogisticRegression was fitted without feature names\n",
      "  warnings.warn(\n"
     ]
    },
    {
     "data": {
      "text/plain": [
       "0.8644245801098328"
      ]
     },
     "execution_count": 57,
     "metadata": {},
     "output_type": "execute_result"
    }
   ],
   "source": [
    "model = LogisticRegression()\n",
    "model.fit(X_train_scaled, y_train)\n",
    "y_pred = model.predict(X_test_scaled)\n",
    "model.score(X_test,y_test)"
   ]
  }
 ],
 "metadata": {
  "kernelspec": {
   "display_name": "Python 3",
   "language": "python",
   "name": "python3"
  },
  "language_info": {
   "codemirror_mode": {
    "name": "ipython",
    "version": 3
   },
   "file_extension": ".py",
   "mimetype": "text/x-python",
   "name": "python",
   "nbconvert_exporter": "python",
   "pygments_lexer": "ipython3",
   "version": "3.8.4"
  }
 },
 "nbformat": 4,
 "nbformat_minor": 4
}
